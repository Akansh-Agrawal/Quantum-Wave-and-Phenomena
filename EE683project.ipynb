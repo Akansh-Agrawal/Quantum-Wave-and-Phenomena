{
  "nbformat": 4,
  "nbformat_minor": 0,
  "metadata": {
    "colab": {
      "provenance": []
    },
    "kernelspec": {
      "name": "python3",
      "display_name": "Python 3"
    }
  },
  "cells": [
    {
      "cell_type": "code",
      "metadata": {
        "id": "oPDXQUfcj8yx",
        "colab": {
          "base_uri": "https://localhost:8080/",
          "height": 295
        },
        "outputId": "b9939933-4ea3-4a5d-ad31-1a6cc4107677"
      },
      "source": [
        "import numpy as np\n",
        "import cmath\n",
        "import math\n",
        "import matplotlib.pyplot as plt\n",
        "from scipy.optimize import fsolve\n",
        "from scipy.optimize import root\n",
        "from scipy.optimize import newton\n",
        "\n",
        "def alpha(E):\n",
        "    lambdax= np.zeros(N,dtype=complex) # coefficients of exp in diff regions\n",
        "    for j in range(N):\n",
        "        lambdax[j]=cmath.sqrt((2*m*(E-V[j]))/(h*h))\n",
        "    M=np.zeros((N-1,2,2),dtype=complex) # there will be N-1 matrices, assuming x0 to x1 to be barrier region 1 and x(N-1) to x(N) be barrier 2\n",
        "    for j in range(N-1):\n",
        "        M[j][0][0]= 0.5*(1+lambdax[j]/lambdax[j+1])*cmath.exp((lambdax[j]-lambdax[j+1])*x[j+1]*1j) # Mj11\n",
        "        M[j][0][1]= 0.5*(1-lambdax[j]/lambdax[j+1])*cmath.exp(-(lambdax[j]+lambdax[j+1])*x[j+1]*1j) # Mj12\n",
        "        M[j][1][0]= 0.5*(1-lambdax[j]/lambdax[j+1])*cmath.exp((lambdax[j]+lambdax[j+1])*x[j+1]*1j) # Mj21\n",
        "        M[j][1][1]= 0.5*(1+lambdax[j]/lambdax[j+1])*cmath.exp((-lambdax[j]+lambdax[j+1])*x[j+1]*1j) # Mj22\n",
        "    \n",
        "    Mf=M[0,:] #product of all matrices\n",
        "    for j in range(1,N-1):\n",
        "        Mf= np.matmul(M[j,:],Mf)\n",
        "    \n",
        "    return abs(Mf[1][1]) # the term alpha_22 in the paper\n",
        "\n",
        "twell= 26.4*pow(10,-9)\n",
        "tb= 10*pow(10,-9)\n",
        "tx= twell + 2*tb # total thickness of well  + both barrier regions  \n",
        "N= 100 # number of discrete steps\n",
        "stepx= tx/N # step in x\n",
        "\n",
        "q=1.6*pow(10,-19) # charge\n",
        "m=0.067*9.1*pow(10,-31) # mass of electron\n",
        "h= (6.626/(2*math.pi))*pow(10,-34) # reduced Planck's constant\n",
        "\n",
        "\n",
        "x=np.zeros(N+1) # array of x points\n",
        "V= np.zeros(N) # array describing the potential at different x locations\n",
        "\n",
        "x[0]= -20*pow(10,-9)\n",
        "for i in range(1,N+1): # defining all x locations and V(x)\n",
        "    x[i]= x[i-1] + stepx\n",
        "    #V[i-1]= 0  # implement variation of potential\n",
        "   \n",
        "\n",
        "V[0]= 0.225*q  # barrier region on left\n",
        "Nb= int(tb/stepx)\n",
        "for i in range(Nb):\n",
        "    V[i]= 0.225*q\n",
        "\n",
        "\n",
        "V[N-1]=0.225*q   # barrier region on right\n",
        "for i in range(N-Nb,N):\n",
        "    V[i]=0.225*q\n",
        "\n",
        "plt.subplot(2,1,1)\n",
        "plt.plot(x[0:N]*pow(10,9),V/q) # potential plot\n",
        "Eint=np.arange(0.001*q,0.4*q,0.01*q)\n",
        "#Eint=[0.130*q]\n",
        "[n]=np.shape(Eint)\n",
        "E1=np.zeros(n)\n",
        "\n",
        "for i in range(n):\n",
        "    #E1[i]=fsolve(alpha,Eint[i],xtol=1.49012e-19)\n",
        "    temp=root(alpha,Eint[i],method='lm')\n",
        "    #E1[i]=newton(alpha,Eint[i])\n",
        "    E1[i]=temp.x\n",
        "\n",
        "print(E1/q)\n",
        "plt.xlabel(\"x coordinate (nm)\")\n",
        "plt.ylabel(\"Potential (eV)\")\n",
        "\n",
        "\n"
      ],
      "execution_count": null,
      "outputs": [
        {
          "output_type": "stream",
          "text": [
            "[0.00620514 0.00620514 0.02474389 0.02474389 0.02474389 0.05535722\n",
            " 0.05535722 0.05535722 0.05535722 0.09748381 0.09748381 0.09748381\n",
            " 0.09748381 0.09748381 0.14985211 0.14985211 0.14985211 0.14985211\n",
            " 0.14985211 0.14985211 0.00620514 0.20814174 0.20814174 0.27963224\n",
            " 0.27963225 0.20814174 0.27963228 0.38061057 0.00620514 0.09748381\n",
            " 0.09748381 0.00620514 0.00620514 1.52244239 0.77675636 0.62917276\n",
            " 0.49712406 0.93987905 0.00620514 0.00620514]\n"
          ],
          "name": "stdout"
        },
        {
          "output_type": "execute_result",
          "data": {
            "text/plain": [
              "Text(0, 0.5, 'Potential (eV)')"
            ]
          },
          "metadata": {
            "tags": []
          },
          "execution_count": 9
        },
        {
          "output_type": "display_data",
          "data": {
            "image/png": "[encoded data removed]",
            "text/plain": [
              "<Figure size 432x288 with 1 Axes>"
            ]
          },
          "metadata": {
            "tags": [],
            "needs_background": "light"
          }
        }
      ]
    },
    {
      "cell_type": "code",
      "metadata": {
        "colab": {
          "base_uri": "https://localhost:8080/",
          "height": 250
        },
        "id": "i-o57DrCabxo",
        "outputId": "6db553af-b204-482b-a5b0-452e962f1e2b"
      },
      "source": [
        "import numpy as np\n",
        "import cmath\n",
        "import math\n",
        "import matplotlib.pyplot as plt\n",
        "from scipy.optimize import fsolve\n",
        "from scipy.optimize import root\n",
        "from scipy.optimize import newton\n",
        "\n",
        "def Matj(E,j):\n",
        "    j=j-1\n",
        "    lambdax= np.zeros(N,dtype=complex) # coefficients of exp in diff regions\n",
        "    for k in range(N):\n",
        "        lambdax[k]=cmath.sqrt((2*m*(E-V[k]))/(h*h))\n",
        "    M=np.zeros((2,2),dtype=complex) # there will be N-1 matrices, assuming x0 to x1 to be barrier region 1 and x(N-1) to x(N) be barrier 2\n",
        "    \n",
        "    M[0][0]= 0.5*(1+lambdax[j]/lambdax[j+1])*cmath.exp((lambdax[j]-lambdax[j+1])*x[j+1]*1j) # Mj11\n",
        "    M[0][1]= 0.5*(1-lambdax[j]/lambdax[j+1])*cmath.exp(-(lambdax[j]+lambdax[j+1])*x[j+1]*1j) # Mj12\n",
        "    M[1][0]= 0.5*(1-lambdax[j]/lambdax[j+1])*cmath.exp((lambdax[j]+lambdax[j+1])*x[j+1]*1j) # Mj21\n",
        "    M[1][1]= 0.5*(1+lambdax[j]/lambdax[j+1])*cmath.exp((-lambdax[j]+lambdax[j+1])*x[j+1]*1j) # Mj22\n",
        "\n",
        "    return M \n",
        "\n",
        "twell= 26.4*pow(10,-9)\n",
        "tb= 10*pow(10,-9)\n",
        "tx= twell + 2*tb # total thickness of well  + both barrier regions  \n",
        "N= 100 # number of discrete steps\n",
        "stepx= tx/N # step in x\n",
        "\n",
        "q=1.6*pow(10,-19) # charge\n",
        "m=0.067*9.1*pow(10,-31) # mass of electron\n",
        "h= (6.626/(2*math.pi))*pow(10,-34) # reduced Planck's constant\n",
        "\n",
        "\n",
        "x=np.zeros(N+1) # array of x points\n",
        "V= np.zeros(N) # array describing the potential at different x locations\n",
        "\n",
        "x[0]= -23.2*pow(10,-9)\n",
        "\n",
        "for i in range(1,N+1): # defining all x locations and V(x)\n",
        "    x[i]= x[i-1] + stepx\n",
        "    #V[i-1]= 0  # implement variation of potential\n",
        "   \n",
        "\n",
        "V[0]= 0.225*q  # barrier region on left\n",
        "Nb= int(tb/stepx)\n",
        "for i in range(Nb):\n",
        "    V[i]= 0.225*q\n",
        "\n",
        "\n",
        "V[N-1]=0.225*q   # barrier region on right\n",
        "for i in range(N-Nb,N):\n",
        "    V[i]=0.225*q\n",
        "\n",
        "\n",
        "\n",
        "#plt.subplot(2,1,1)\n",
        "#plt.plot(x[0:N]*pow(10,9),V/q)\n",
        "#plt.xlabel(\"x coordinate (nm)\")\n",
        "#plt.ylabel(\"Potential (eV)\")\n",
        "Eig=0.0553*q\n",
        "\n",
        "xarr=np.arange(x[0],x[0]+tx,0.1*pow(10,-9))\n",
        "[nx]=np.shape(xarr)\n",
        "Psi=np.zeros(nx,dtype='complex')\n",
        "A=np.zeros(N,dtype='complex')\n",
        "B=np.zeros(N,dtype='complex')\n",
        "A[0]= 0\n",
        "B[0]= 1\n",
        "temp=[[1+1j,1+1j],[1+1j,1+1j]]\n",
        "tmp=int(stepx/(0.1*pow(10,-9)))\n",
        "stepl= xarr[2]-xarr[1]\n",
        "sum=0\n",
        "\n",
        "for l in range(tmp+1):\n",
        "    lambdaxi=cmath.sqrt((2*m*(Eig-V[0]))/(h*h))\n",
        "    Psi[l]= pow(abs(A[0]*cmath.exp(1j*lambdaxi*xarr[l])+ B[0]*cmath.exp(-1j*lambdaxi*xarr[l])),2)\n",
        "    sum=sum+stepl*Psi[l]\n",
        "\n",
        "for l in range(tmp+1,nx-tmp):\n",
        "    i= math.floor((xarr[l]-x[0])/stepx)\n",
        "    temp=Matj(Eig,i)\n",
        "    A[i]= temp[0][0]*A[i-1]+temp[0][1]*B[i-1]\n",
        "    B[i]= temp[1][0]*A[i-1]+temp[1][1]*B[i-1]\n",
        "    lambdaxi=cmath.sqrt((2*m*(Eig-V[i]))/(h*h))\n",
        "    Psi[l]= pow(abs(A[i]*cmath.exp(1j*lambdaxi*xarr[l])+ B[i]*cmath.exp(-1j*lambdaxi*xarr[l])),2)\n",
        "    sum=sum+ stepl*Psi[l]\n",
        "    \n",
        "plt.subplot(2,1,2)\n",
        "Nr=int(tb/stepl)\n",
        "plt.plot(xarr[Nr:nx-Nr]*pow(10,9),Psi[Nr:nx-Nr])\n",
        "plt.xlabel(\"x coordinate (nm)\")\n",
        "plt.ylabel(\"Un-normalized probability density\")\n",
        "plt.title(\"Eigen level 3\")\n",
        "\n"
      ],
      "execution_count": null,
      "outputs": [
        {
          "output_type": "stream",
          "text": [
            "/usr/local/lib/python3.6/dist-packages/numpy/core/_asarray.py:85: ComplexWarning: Casting complex values to real discards the imaginary part\n",
            "  return array(a, dtype, copy=False, order=order)\n"
          ],
          "name": "stderr"
        },
        {
          "output_type": "execute_result",
          "data": {
            "text/plain": [
              "Text(0.5, 1.0, 'Eigen level 3')"
            ]
          },
          "metadata": {
            "tags": []
          },
          "execution_count": 13
        },
        {
          "output_type": "display_data",
          "data": {
            "image/png": "[encoded data removed]",
            "text/plain": [
              "<Figure size 432x288 with 1 Axes>"
            ]
          },
          "metadata": {
            "tags": [],
            "needs_background": "light"
          }
        }
      ]
    },
    {
      "cell_type": "code",
      "metadata": {
        "id": "-o2r1cqOm6EQ",
        "colab": {
          "base_uri": "https://localhost:8080/",
          "height": 330
        },
        "outputId": "f366b738-af0a-49a0-fd43-cb3431395c79"
      },
      "source": [
        "import numpy as np\n",
        "import cmath\n",
        "import math\n",
        "import matplotlib.pyplot as plt\n",
        "from scipy.optimize import fsolve\n",
        "from scipy.optimize import root\n",
        "from scipy.optimize import newton\n",
        "\n",
        "def alpha(E):\n",
        "    lambdax= np.zeros(N,dtype=complex) # coefficients of exp in diff regions\n",
        "    for j in range(N):\n",
        "        lambdax[j]=cmath.sqrt((2*m*(E-V[j]))/(h*h))\n",
        "    M=np.zeros((N-1,2,2),dtype=complex) # there will be N-1 matrices, assuming x0 to x1 to be barrier region 1 and x(N-1) to x(N) be barrier 2\n",
        "    for j in range(N-1):\n",
        "        M[j][0][0]= 0.5*(1+lambdax[j]/lambdax[j+1])*cmath.exp((lambdax[j]-lambdax[j+1])*x[j+1]*1j) # Mj11\n",
        "        M[j][0][1]= 0.5*(1-lambdax[j]/lambdax[j+1])*cmath.exp(-(lambdax[j]+lambdax[j+1])*x[j+1]*1j) # Mj12\n",
        "        M[j][1][0]= 0.5*(1-lambdax[j]/lambdax[j+1])*cmath.exp((lambdax[j]+lambdax[j+1])*x[j+1]*1j) # Mj21\n",
        "        M[j][1][1]= 0.5*(1+lambdax[j]/lambdax[j+1])*cmath.exp((-lambdax[j]+lambdax[j+1])*x[j+1]*1j) # Mj22\n",
        "    \n",
        "    Mf=M[0,:] #product of all matrices\n",
        "    for j in range(1,N-1):\n",
        "        Mf= np.matmul(M[j,:],Mf)\n",
        "    \n",
        "    return abs(Mf[1][1]) # the term alpha_22 in the paper, check whether it should be 00 or 11 (left to right confusion)\n",
        "\n",
        "tx= 17*pow(10,-9) # total thickness of well\n",
        "N= 24 # number of discrete steps\n",
        "stepx= tx/N # step in x\n",
        "\n",
        "q=1.6*pow(10,-19) # charge\n",
        "m=0.02*9.1*pow(10,-31) # mass of electron\n",
        "h= (6.626/(2*math.pi))*pow(10,-34) # reduced Planck's constant\n",
        "\n",
        "\n",
        "x=np.zeros(N+1) # array of x points\n",
        "V= np.zeros(N) # array describing the potential at different x locations\n",
        "\n",
        "x[0]=0\n",
        "for i in range(1,N+1): # defining all x locations and V(x)\n",
        "    x[i]= x[i-1] + stepx\n",
        "   \n",
        "Eapp= 100*pow(10,5)\n",
        "\n",
        "V[0] = 0.4*q\n",
        "for i in range(1,int(7.08*pow(10,-9)/stepx)):\n",
        "    V[i]=V[i-1]-q*Eapp*stepx\n",
        "\n",
        "V[int(7.08*pow(10,-9)/stepx)] = -0.067*q\n",
        "for i in range(1+int(7.08*pow(10,-9)/stepx),int(10*pow(10,-9)/stepx)):\n",
        "    V[i]=V[i-1] - Eapp*q*stepx\n",
        "\n",
        "V[int(10*pow(10,-9)/stepx)] = 0.295*q\n",
        "\n",
        "for i in range(int(10*pow(10,-9)/stepx)+1,N):\n",
        "    V[i]=V[i-1]-q*Eapp*stepx\n",
        "\n",
        "#print(V/q)\n",
        "plt.plot(x[1:N+1]*pow(10,9),V/q)\n",
        "plt.xlabel(\"x coordinate (nm)\")\n",
        "plt.ylabel(\"Potential (eV)\")\n",
        "Eint=np.arange(-0.1*q,0.4*q,0.04*q)\n",
        "n=np.shape(Eint)[0]\n",
        "#print(Eint)\n",
        "E1=np.zeros(n)\n",
        "\n",
        "for i in range(n):\n",
        "    #E1[i]=fsolve(alpha,Eint[i])\n",
        "    E1[i]=root(alpha,Eint[i],method='lm').x\n",
        "    #E1[i]=newton(alpha,Eint[i])\n",
        "    #E1 = temp.x\n",
        "print(E1/q)"
      ],
      "execution_count": null,
      "outputs": [
        {
          "output_type": "stream",
          "text": [
            "[0.17004943 0.17004943 0.4        0.17004943 0.17004943 0.17004943\n",
            " 0.17004943 0.17004943 0.17004943 0.40000001 0.40000001 0.4\n",
            " 0.4       ]\n"
          ],
          "name": "stdout"
        },
        {
          "output_type": "display_data",
          "data": {
            "image/png": "[encoded data removed]",
            "text/plain": [
              "<Figure size 432x288 with 1 Axes>"
            ]
          },
          "metadata": {
            "tags": [],
            "needs_background": "light"
          }
        }
      ]
    },
    {
      "cell_type": "code",
      "metadata": {
        "colab": {
          "base_uri": "https://localhost:8080/",
          "height": 250
        },
        "id": "ZJAlk7bOVgOQ",
        "outputId": "0fcb8373-e503-49d8-b4a3-669a9d3aebff"
      },
      "source": [
        "import numpy as np\n",
        "import cmath\n",
        "import math\n",
        "import matplotlib.pyplot as plt\n",
        "from scipy.optimize import fsolve\n",
        "from scipy.optimize import root\n",
        "from scipy.optimize import newton\n",
        "\n",
        "def Matj(E,j):\n",
        "    j=j-1\n",
        "    lambdax= np.zeros(N,dtype=complex) # coefficients of exp in diff regions\n",
        "    for k in range(N):\n",
        "        lambdax[k]=cmath.sqrt((2*m*(E-V[k]))/(h*h))\n",
        "    M=np.zeros((2,2),dtype=complex) # there will be N-1 matrices, assuming x0 to x1 to be barrier region 1 and x(N-1) to x(N) be barrier 2\n",
        "    \n",
        "    M[0][0]= 0.5*(1+lambdax[j]/lambdax[j+1])*cmath.exp((lambdax[j]-lambdax[j+1])*x[j+1]*1j) # Mj11\n",
        "    M[0][1]= 0.5*(1-lambdax[j]/lambdax[j+1])*cmath.exp(-(lambdax[j]+lambdax[j+1])*x[j+1]*1j) # Mj12\n",
        "    M[1][0]= 0.5*(1-lambdax[j]/lambdax[j+1])*cmath.exp((lambdax[j]+lambdax[j+1])*x[j+1]*1j) # Mj21\n",
        "    M[1][1]= 0.5*(1+lambdax[j]/lambdax[j+1])*cmath.exp((-lambdax[j]+lambdax[j+1])*x[j+1]*1j) # Mj22\n",
        "\n",
        "    return M # the term alpha_22 in the paper, check whether it should be 00 or 11 (left to right confusion)\n",
        "\n",
        "tx= 17*pow(10,-9) # total thickness of well\n",
        "N= 24 # number of discrete steps\n",
        "stepx= tx/N # step in x\n",
        "\n",
        "q=1.6*pow(10,-19) # charge\n",
        "m=0.067*9.1*pow(10,-31) # mass of electron\n",
        "h= (6.626/(2*math.pi))*pow(10,-34) # reduced Planck's constant\n",
        "\n",
        "\n",
        "x=np.zeros(N+1) # array of x points\n",
        "V= np.zeros(N) # array describing the potential at different x locations\n",
        "\n",
        "x[0]=0\n",
        "for i in range(1,N+1): # defining all x locations and V(x)\n",
        "    x[i]= x[i-1] + stepx\n",
        "    #V[i-1]= 0  # implement variation of potential\n",
        "   \n",
        "Eapp= 100*pow(10,5)\n",
        "\n",
        "V[0] = 0.4*q\n",
        "for i in range(1,10):\n",
        "    V[i]=V[i-1]-0.0072*q\n",
        "\n",
        "V[10] = -0.067*q\n",
        "for i in range(11,15):\n",
        "    V[i]=V[i-1] - 0.00825*q\n",
        "\n",
        "V[15] = 0.295*q\n",
        "for i in range(16,24):\n",
        "    V[i]=V[i-1]-0.0086*q\n",
        "\n",
        "#print(V/q)\n",
        "#plt.subplot(2,1,1)\n",
        "#plt.plot(x[1:N+1],V/q)\n",
        "Eint=np.arange(-0.1*q,0.4*q,0.04*q)\n",
        "n=np.shape(Eint)[0]\n",
        "#print(Eint)\n",
        "E1=np.zeros(n)\n",
        "Eig=0.0687*q\n",
        "\n",
        "xarr=np.arange(x[0],x[0]+tx,0.1*pow(10,-9))\n",
        "[nx]=np.shape(xarr)\n",
        "Psi=np.zeros(nx,dtype='complex')\n",
        "A=np.zeros(N,dtype='complex')\n",
        "B=np.zeros(N,dtype='complex')\n",
        "A[0]= 0\n",
        "B[0]= 1\n",
        "tmp=int(stepx/(0.1*pow(10,-9)))\n",
        "\n",
        "for l in range(tmp+1):\n",
        "    lambdaxi=cmath.sqrt((2*m*(Eig-V[0]))/(h*h))\n",
        "    Psi[l]= pow(abs(A[0]*cmath.exp(1j*lambdaxi*xarr[l])+ B[0]*cmath.exp(-1j*lambdaxi*xarr[l])),2)\n",
        "\n",
        "for l in range(tmp+1,nx-tmp):\n",
        "    i= math.floor((xarr[l]-x[0])/stepx)\n",
        "    temp=Matj(Eig,i)\n",
        "    A[i]= temp[0][0]*A[i-1]+temp[0][1]*B[i-1]\n",
        "    B[i]= temp[1][0]*A[i-1]+temp[1][1]*B[i-1]\n",
        "    lambdaxi=cmath.sqrt((2*m*(Eig-V[i]))/(h*h))\n",
        "    Psi[l]= pow(abs(A[i]*cmath.exp(1j*lambdaxi*xarr[l])+ B[i]*cmath.exp(-1j*lambdaxi*xarr[l])),2)\n",
        "      \n",
        "plt.subplot(2,1,2)\n",
        "tb= 5*pow(10,-9)\n",
        "Nr= int(tb/(0.1*pow(10,-9)))\n",
        "plt.plot(xarr[Nr:nx-Nr]*pow(10,9),Psi[Nr:nx-Nr])\n",
        "plt.xlabel(\"x coordinate (nm)\")\n",
        "plt.ylabel(\"Un-normalized probability density\")\n",
        "plt.title(\"Eigen level 1\")\n",
        "\n",
        "    "
      ],
      "execution_count": null,
      "outputs": [
        {
          "output_type": "stream",
          "text": [
            "/usr/local/lib/python3.6/dist-packages/numpy/core/_asarray.py:85: ComplexWarning: Casting complex values to real discards the imaginary part\n",
            "  return array(a, dtype, copy=False, order=order)\n"
          ],
          "name": "stderr"
        },
        {
          "output_type": "execute_result",
          "data": {
            "text/plain": [
              "Text(0.5, 1.0, 'Eigen level 1')"
            ]
          },
          "metadata": {
            "tags": []
          },
          "execution_count": 42
        },
        {
          "output_type": "display_data",
          "data": {
            "image/png": "[encoded data removed]",
            "text/plain": [
              "<Figure size 432x288 with 1 Axes>"
            ]
          },
          "metadata": {
            "tags": [],
            "needs_background": "light"
          }
        }
      ]
    },
    {
      "cell_type": "code",
      "metadata": {
        "colab": {
          "base_uri": "https://localhost:8080/",
          "height": 379
        },
        "id": "TUtbUql-TADq",
        "outputId": "7d5d91c7-bdb2-4e62-b2a3-aba1630b5edc"
      },
      "source": [
        "import numpy as np\n",
        "import cmath\n",
        "import math\n",
        "import matplotlib.pyplot as plt\n",
        "from scipy.optimize import fsolve\n",
        "from scipy.optimize import root\n",
        "from scipy.optimize import newton\n",
        "\n",
        "def alpha(E):\n",
        "    lambdax= np.zeros(N,dtype=complex) # coefficients of exp in diff regions\n",
        "    for j in range(N):\n",
        "        lambdax[j]=cmath.sqrt((2*m*(E-V[j]))/(h*h))\n",
        "    M=np.zeros((N-1,2,2),dtype=complex) # there will be N-1 matrices, assuming x0 to x1 to be barrier region 1 and x(N-1) to x(N) be barrier 2\n",
        "    for j in range(N-1):\n",
        "        M[j][0][0]= 0.5*(1+lambdax[j]/lambdax[j+1])*cmath.exp((lambdax[j]-lambdax[j+1])*x[j+1]*1j) # Mj11\n",
        "        M[j][0][1]= 0.5*(1-lambdax[j]/lambdax[j+1])*cmath.exp(-(lambdax[j]+lambdax[j+1])*x[j+1]*1j) # Mj12\n",
        "        M[j][1][0]= 0.5*(1-lambdax[j]/lambdax[j+1])*cmath.exp((lambdax[j]+lambdax[j+1])*x[j+1]*1j) # Mj21\n",
        "        M[j][1][1]= 0.5*(1+lambdax[j]/lambdax[j+1])*cmath.exp((-lambdax[j]+lambdax[j+1])*x[j+1]*1j) # Mj22\n",
        "    \n",
        "    Mf=M[0,:] #product of all matrices\n",
        "    for j in range(1,N-1):\n",
        "        Mf= np.matmul(M[j,:],Mf)\n",
        "    \n",
        "    return abs(Mf[1][1]) # the term alpha_22 in the paper, check whether it should be 00 or 11 (left to right confusion)\n",
        "\n",
        "tx= 17*pow(10,-9) # total thickness of well\n",
        "N= 24 # number of discrete steps\n",
        "stepx= tx/N # step in x\n",
        "\n",
        "q=1.6*pow(10,-19) # charge\n",
        "m=0.067*9.1*pow(10,-31) # mass of electron\n",
        "h= (6.626/(2*math.pi))*pow(10,-34) # reduced Planck's constant\n",
        "\n",
        "\n",
        "x=np.zeros(N+1) # array of x points\n",
        "V= np.zeros(N) # array describing the potential at different x locations\n",
        "\n",
        "x[0]=0\n",
        "for i in range(1,N+1): # defining all x locations and V(x)\n",
        "    x[i]= x[i-1] + stepx\n",
        "    #V[i-1]= 0  # implement variation of potential\n",
        "   \n",
        "Eapp= 100*pow(10,5)\n",
        "\n",
        "V[0] = 0.4*q\n",
        "for i in range(1,10):\n",
        "    V[i]=V[i-1]-0.0072*q*0\n",
        "\n",
        "V[10] = 0#-0.067*q\n",
        "for i in range(11,15):\n",
        "    V[i]=V[i-1] - 0.00825*q*0\n",
        "\n",
        "V[15] = 0.4*q #0.295*q\n",
        "for i in range(16,24):\n",
        "    V[i]=V[i-1]-0.0086*q*0\n",
        "\n",
        "print(V/q)\n",
        "plt.plot(x[1:N+1],V/q)\n",
        "Eint=np.arange(-0.1*q,0.4*q,0.04*q)\n",
        "n=np.shape(Eint)[0]\n",
        "print(Eint)\n",
        "E1=np.zeros(n)\n",
        "\n",
        "for i in range(n):\n",
        "    #E1[i]=fsolve(alpha,Eint[i])\n",
        "    E1[i]=root(alpha,Eint[i],method='lm').x\n",
        "    #E1[i]=newton(alpha,Eint[i])\n",
        "    #E1 = temp.x\n",
        "print(E1/q)"
      ],
      "execution_count": null,
      "outputs": [
        {
          "output_type": "stream",
          "text": [
            "[0.4 0.4 0.4 0.4 0.4 0.4 0.4 0.4 0.4 0.4 0.  0.  0.  0.  0.  0.4 0.4 0.4\n",
            " 0.4 0.4 0.4 0.4 0.4 0.4]\n",
            "[-1.60e-20 -9.60e-21 -3.20e-21  3.20e-21  9.60e-21  1.60e-20  2.24e-20\n",
            "  2.88e-20  3.52e-20  4.16e-20  4.80e-20  5.44e-20  6.08e-20]\n",
            "[0.1505926 0.1505926 0.1505926 0.1505926 0.1505926 0.1505926 0.1505926\n",
            " 0.1505926 0.1505926 0.1505926 0.1505926 0.1505926 0.1505926]\n"
          ],
          "name": "stdout"
        },
        {
          "output_type": "display_data",
          "data": {
            "image/png": "[encoded data removed]",
            "text/plain": [
              "<Figure size 432x288 with 1 Axes>"
            ]
          },
          "metadata": {
            "tags": [],
            "needs_background": "light"
          }
        }
      ]
    },
    {
      "cell_type": "code",
      "metadata": {
        "colab": {
          "base_uri": "https://localhost:8080/",
          "height": 296
        },
        "id": "xN0lbJc1uSRj",
        "outputId": "d95c1518-090f-47e2-d30c-090db39ba383"
      },
      "source": [
        "tx= 17*pow(10,-9) # total thickness of well\n",
        "N= 200 # number of discrete steps\n",
        "stepx= tx/N # step in x\n",
        "\n",
        "q=1.6*pow(10,-19) # charge\n",
        "m=0.02*9.1*pow(10,-31) # mass of electron\n",
        "h= (6.626/(2*math.pi))*pow(10,-34) # reduced Planck's constant\n",
        "\n",
        "\n",
        "x=np.zeros(N+1) # array of x points\n",
        "V= np.zeros(N) # array describing the potential at different x locations\n",
        "\n",
        "x[0]=0\n",
        "for i in range(1,N+1): # defining all x locations and V(x)\n",
        "    x[i]= x[i-1] + stepx\n",
        "   \n",
        "Eapp= 100*pow(10,5)\n",
        "\n",
        "V[0] = 0.4*q\n",
        "for i in range(1,int(7.08*pow(10,-9)/stepx)):\n",
        "    V[i]=V[i-1]-q*Eapp*stepx\n",
        "\n",
        "V[int(7.08*pow(10,-9)/stepx)] = -0.067*q\n",
        "for i in range(1+int(7.08*pow(10,-9)/stepx),int(10*pow(10,-9)/stepx)):\n",
        "    V[i]=V[i-1] - Eapp*q*stepx\n",
        "\n",
        "V[int(10*pow(10,-9)/stepx)] = 0.295*q\n",
        "\n",
        "for i in range(int(10*pow(10,-9)/stepx)+1,N):\n",
        "    V[i]=V[i-1]-q*Eapp*stepx\n",
        "\n",
        "#print(V/q)\n",
        "plt.plot(x[1:N+1]*pow(10,9),V/q)\n",
        "plt.xlabel(\"x coordinate (nm)\")\n",
        "plt.ylabel(\"Potential (eV)\")"
      ],
      "execution_count": null,
      "outputs": [
        {
          "output_type": "execute_result",
          "data": {
            "text/plain": [
              "Text(0, 0.5, 'Potential (eV)')"
            ]
          },
          "metadata": {
            "tags": []
          },
          "execution_count": 32
        },
        {
          "output_type": "display_data",
          "data": {
            "image/png": "[encoded data removed]",
            "text/plain": [
              "<Figure size 432x288 with 1 Axes>"
            ]
          },
          "metadata": {
            "tags": [],
            "needs_background": "light"
          }
        }
      ]
    }
  ]
}